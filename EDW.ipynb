{
  "nbformat": 4,
  "nbformat_minor": 0,
  "metadata": {
    "kernelspec": {
      "display_name": "Python 3",
      "language": "python",
      "name": "python3"
    },
    "language_info": {
      "codemirror_mode": {
        "name": "ipython",
        "version": 3
      },
      "file_extension": ".py",
      "mimetype": "text/x-python",
      "name": "python",
      "nbconvert_exporter": "python",
      "pygments_lexer": "ipython3",
      "version": "3.6.12"
    },
    "colab": {
      "name": "EDW.ipynb",
      "provenance": []
    }
  },
  "cells": [
    {
      "cell_type": "code",
      "metadata": {
        "id": "R-ZIX1BbK_h8"
      },
      "source": [
        "#1\n",
        "\n",
        "!pip install plotly\n",
        "!pip install plotly_express\n",
        "!pip install pandas\n",
        "!pip install sklearn"
      ],
      "execution_count": null,
      "outputs": []
    },
    {
      "cell_type": "code",
      "metadata": {
        "id": "hru4NuEgK_iB"
      },
      "source": [
        "#2 \n",
        "\n",
        "# function to plot a graph for feature importances\n",
        "def plt_feature_importance():\n",
        "    feature_imp = pd.Series(rfc.feature_importances_,index=feat_col)\n",
        "    feature_imp = (feature_imp*100).sort_values(ascending=False)\n",
        "    fig = px.bar(feature_imp,x=feature_imp.index,y=feature_imp.values,labels={'x':'Features','y':'Importance Percentage %'})\n",
        "    return fig\n",
        "\n",
        "# get accuracy of the predicted test class\n",
        "def get_acc(y_test,prediction):\n",
        "    acc = metrics.accuracy_score(y_test, prediction)\n",
        "    return acc*100\n",
        "\n",
        "# Scale data using Min Max values\n",
        "def scale_data(X):\n",
        "    from sklearn.preprocessing import MinMaxScaler\n",
        "    scaler = MinMaxScaler()\n",
        "    sc = scaler.fit(X)\n",
        "    X = sc.transform(X)\n",
        "    return X\n",
        "\n",
        "# Plot algorithm decision boundaries\n",
        "def plot_boundaries(iris,algo):\n",
        "    from sklearn.preprocessing import StandardScaler\n",
        "    from plotly import subplots\n",
        "    X = iris[['SepalWidthCm','PetalLengthCm']]  \n",
        "\n",
        "    y = iris.Species\n",
        "    y = le.fit_transform(iris.Species)\n",
        "    h = .02  # step size in the mesh\n",
        "\n",
        "    X = StandardScaler().fit_transform(X)\n",
        "\n",
        "    if algo=='rfst':\n",
        "        trees = RandomForestClassifier(max_depth=5,n_estimators=10,\n",
        "                                       random_state=0)\n",
        "        trees.fit(X, y)\n",
        "\n",
        "        trees_overfit = RandomForestClassifier(max_depth=200, \n",
        "                                               n_estimators=10, \n",
        "                                               random_state=0)\n",
        "        trees_overfit.fit(X, y)\n",
        "        \n",
        "    elif algo=='svm':\n",
        "        trees = LinearSVC(penalty='l2', loss='squared_hinge',\n",
        "                dual=True, tol=0.001, C=1,multi_class='ovr',\n",
        "                fit_intercept=True, intercept_scaling=1, class_weight=None,verbose=0\n",
        "                , random_state=0, max_iter=1000)\n",
        "        trees.fit(X,y)\n",
        "        \n",
        "    else:\n",
        "        trees = DecisionTreeClassifier(random_state=0)\n",
        "        trees.fit(X, y)\n",
        "        \n",
        "\n",
        "    x_min, x_max = X[:, 0].min() - 1, X[:, 0].max() + 1\n",
        "    y_min, y_max = X[:, 1].min() - 1, X[:, 1].max() + 1\n",
        "\n",
        "    xx, yy = np.meshgrid(np.arange(x_min, x_max, h)\n",
        "                         , np.arange(y_min, y_max, h))\n",
        "    y_ = np.arange(y_min, y_max, h)\n",
        "\n",
        "    Z = trees.predict(np.c_[xx.ravel(), yy.ravel()])\n",
        "    Z = Z.reshape(xx.shape)    \n",
        "    \n",
        "    \n",
        "    if algo=='rfst':\n",
        "        fig = subplots.make_subplots(rows=1, cols=2,\n",
        "                                  subplot_titles=(\"Random Forest (Depth = 25)\",\n",
        "                                                  \"Random Forest (Depth = 200)\")\n",
        "                                 )\n",
        "\n",
        "        trace1 = go.Heatmap(x=xx[0], y=y_, z=Z,\n",
        "                          colorscale='Viridis',\n",
        "                          showscale=False)\n",
        "\n",
        "        trace2 = go.Scatter(x=X[:, 0], y=X[:, 1], \n",
        "                            mode='markers',\n",
        "                            showlegend=True,\n",
        "                            marker=dict(size=10,\n",
        "                                        color=y, \n",
        "                                        colorscale='Viridis',\n",
        "                                        line=dict(color='black', width=1))\n",
        "                            )\n",
        "\n",
        "        fig.append_trace(trace1, 1, 1)\n",
        "        fig.append_trace(trace2, 1, 1)\n",
        "        \n",
        "    else:\n",
        "        if algo=='dt':\n",
        "            fig = subplots.make_subplots(rows=1, cols=2,subplot_titles=(\"Decision Tree\",\"\"))\n",
        "        else:\n",
        "            fig = subplots.make_subplots(rows=1, cols=2,subplot_titles=(\"Support vector Machine\",\"\"))\n",
        "            \n",
        "        trace1 = go.Heatmap(x=xx[0], y=y_, z=Z,\n",
        "                          colorscale='Viridis',\n",
        "                          showscale=False)\n",
        "\n",
        "        trace2 = go.Scatter(x=X[:, 0], y=X[:, 1], \n",
        "                            mode='markers',\n",
        "                            showlegend=True,\n",
        "                            marker=dict(size=10,\n",
        "                                        color=y, \n",
        "                                        colorscale='Viridis',\n",
        "                                        line=dict(color='black', width=1))\n",
        "                            )\n",
        "\n",
        "        fig.append_trace(trace1, 1, 1)\n",
        "        fig.append_trace(trace2, 1, 1)\n",
        "\n",
        "    if algo=='rfst':\n",
        "        Z = trees_overfit.predict(np.c_[xx.ravel(), yy.ravel()])\n",
        "        Z = Z.reshape(xx.shape)\n",
        "\n",
        "\n",
        "        trace3 = go.Heatmap(x=xx[0], y=y_, \n",
        "                            z=Z,\n",
        "                            colorscale='Viridis',\n",
        "                            showscale=False)\n",
        "\n",
        "        trace4 = go.Scatter(x=X[:, 0], y=X[:, 1],\n",
        "                            mode='markers',\n",
        "                            showlegend=True,\n",
        "                            marker=dict(size=10,\n",
        "                                        color=y, \n",
        "                                        colorscale='Viridis',\n",
        "                                        line=dict(color='black', width=1))\n",
        "                           )\n",
        "        fig.append_trace(trace3, 1, 2)\n",
        "        fig.append_trace(trace4, 1, 2)\n",
        "\n",
        "    for i in map(str, range(1, 3)):\n",
        "        x = 'xaxis' + i\n",
        "        y = 'yaxis' + i\n",
        "        fig['layout'][x].update(showgrid=False, \n",
        "                                zeroline=False,\n",
        "                                showticklabels=False, \n",
        "                                ticks='', \n",
        "                                autorange=True)\n",
        "        fig['layout'][y].update(showgrid=False, \n",
        "                                zeroline=False,\n",
        "                                showticklabels=False, \n",
        "                                ticks='', \n",
        "                                autorange=True)\n",
        "\n",
        "    py.iplot(fig)\n",
        "    \n",
        "# plot confucion matrices for any given algorithm\n",
        "def confusion_matrix(y_test,prediction,algo,acc):\n",
        "    dtpreds = {'Actual':le.inverse_transform(y_test),'Predicted':le.inverse_transform(prediction)}\n",
        "    df = pd.DataFrame(dtpreds, columns=['Actual','Predicted'])\n",
        "    confusion_matrix = pd.crosstab(df['Actual'], df['Predicted'], rownames=['Actual'], colnames=['Predicted'])\n",
        "    fig = sn.heatmap(confusion_matrix, annot=True,cbar=False)\n",
        "    if algo=='svm':\n",
        "        plt.title(\"Support Vector Machine with Accuracy=\"+str(acc)+\"%\")\n",
        "    elif algo=='dt':\n",
        "        plt.title(\"Decision Tree with Accuracy=\"+str(acc)+\"%\")\n",
        "    elif algo=='rf':\n",
        "        plt.title(\"Randomn Forest with Accuracy=\"+str(acc)+\"%\")\n",
        "    return fig.get_figure()"
      ],
      "execution_count": null,
      "outputs": []
    },
    {
      "cell_type": "markdown",
      "metadata": {
        "id": "RD8nLRXMK_iC"
      },
      "source": [
        "# <U>The Iris Flower<U>"
      ]
    },
    {
      "cell_type": "markdown",
      "metadata": {
        "id": "RBK8Y9QlK_iD"
      },
      "source": [
        "<img src=\"https://github.com/ishkan28321/EDW/blob/master/irisall.png?raw=1\">"
      ]
    },
    {
      "cell_type": "markdown",
      "metadata": {
        "id": "cuYI2LctK_iD"
      },
      "source": [
        "The Iris Flowerhas 3 different species:\n",
        "* Iris-virginica\n",
        "* Iris-versicolor\n",
        "* Iris-setosa"
      ]
    },
    {
      "cell_type": "markdown",
      "metadata": {
        "id": "UO9h9gxoK_iD"
      },
      "source": [
        "We need to find a way to classify these species of the Iris among themselves. We have the data of the physical dimensions of the flower like the length and width of the Sepal(Leaves below the petals) and of the Petals. Using this we need to find which species do they belong.\n",
        "\n",
        "Let's get an insight over the dataset"
      ]
    },
    {
      "cell_type": "code",
      "metadata": {
        "id": "lfsCzL4cK_iE"
      },
      "source": [
        "#4\n",
        "import pandas as pd\n",
        "iris = pd.read_csv('https://raw.githubusercontent.com/ishkan28321/EDW/master/Iris.csv')\n",
        "iris.sample(frac=0.04)"
      ],
      "execution_count": null,
      "outputs": []
    },
    {
      "cell_type": "markdown",
      "metadata": {
        "id": "SFMgJak8K_iE"
      },
      "source": [
        "<code>As we can see in the above table, we have the features of the flower in the four columns after the id and we have the species of the flower that we need to predict.<code>"
      ]
    },
    {
      "cell_type": "markdown",
      "metadata": {
        "id": "uSU4tmkfK_iE"
      },
      "source": [
        "### How do we solve this ?"
      ]
    },
    {
      "cell_type": "markdown",
      "metadata": {
        "id": "-QvyOeClK_iE"
      },
      "source": [
        "Let's import all the libraries that we might require today solve this problem."
      ]
    },
    {
      "cell_type": "code",
      "metadata": {
        "id": "xlW_e2WrK_iF"
      },
      "source": [
        "#5\n",
        "from sklearn import preprocessing\n",
        "import plotly_express as px\n",
        "import numpy as np\n",
        "from plotly import graph_objects as go\n",
        "import sklearn as skl\n",
        "import plotly.offline as py\n",
        "import seaborn as sn\n",
        "from sklearn import metrics\n",
        "import matplotlib.pyplot as plt\n",
        "from sklearn.svm import LinearSVC\n",
        "from sklearn.tree import DecisionTreeClassifier"
      ],
      "execution_count": null,
      "outputs": []
    },
    {
      "cell_type": "markdown",
      "metadata": {
        "id": "zavgQYuaK_iF"
      },
      "source": [
        "#  Statistical Analysis"
      ]
    },
    {
      "cell_type": "markdown",
      "metadata": {
        "id": "DtcdctysK_iF"
      },
      "source": [
        "# Visualize the dataset"
      ]
    },
    {
      "cell_type": "markdown",
      "metadata": {
        "id": "GxE3UIbcK_iF"
      },
      "source": [
        "Columns of the iris dataset"
      ]
    },
    {
      "cell_type": "code",
      "metadata": {
        "id": "uKQBrRKIK_iF"
      },
      "source": [
        "#6\n",
        "iris.columns"
      ],
      "execution_count": null,
      "outputs": []
    },
    {
      "cell_type": "markdown",
      "metadata": {
        "id": "b18CFnLvK_iG"
      },
      "source": [
        "Go ahead and try changing the x, y, z values down below with any of the feature names."
      ]
    },
    {
      "cell_type": "code",
      "metadata": {
        "id": "yaOVt2ylK_iG"
      },
      "source": [
        "#7\n",
        "px.scatter_3d(iris,x='SepalLengthCm',y='SepalWidthCm',z='PetalLengthCm',color='Species')"
      ],
      "execution_count": null,
      "outputs": []
    },
    {
      "cell_type": "markdown",
      "metadata": {
        "id": "p2782ZJbK_iG"
      },
      "source": [
        "## 2. <u>Statistical Method<U>"
      ]
    },
    {
      "cell_type": "markdown",
      "metadata": {
        "id": "g2qsW5sNK_iG"
      },
      "source": [
        "Lets seperate out the labels from the features"
      ]
    },
    {
      "cell_type": "code",
      "metadata": {
        "id": "176OUozUK_iG"
      },
      "source": [
        "# 8\n",
        "\n",
        "y = iris.Species\n",
        "X = iris.drop(columns=['Id','Species'])"
      ],
      "execution_count": null,
      "outputs": []
    },
    {
      "cell_type": "markdown",
      "metadata": {
        "id": "yuTWT2MBK_iG"
      },
      "source": [
        "Here, X is the set of features and y is the target variable that we will predict."
      ]
    },
    {
      "cell_type": "markdown",
      "metadata": {
        "id": "SawAcWEqK_iH"
      },
      "source": [
        "We split the Data into two parts, two thirds of the data will be used in training and the rest one third for testing the model."
      ]
    },
    {
      "cell_type": "code",
      "metadata": {
        "id": "GVvfX7Y3K_iH"
      },
      "source": [
        "# 9\n",
        "\n",
        "from sklearn.model_selection import train_test_split\n",
        "X_train, X_test, y_train, y_test = train_test_split(X, y, test_size=0.33, random_state=42)"
      ],
      "execution_count": null,
      "outputs": []
    },
    {
      "cell_type": "markdown",
      "metadata": {
        "id": "9GO5EOU9K_iH"
      },
      "source": [
        "Seperate out the different species"
      ]
    },
    {
      "cell_type": "code",
      "metadata": {
        "id": "E9kbt-ZqK_iH"
      },
      "source": [
        "# 10 \n",
        "versicolor = y_train==\"Iris-versicolor\"\n",
        "setosa = y_train==\"Iris-setosa\"\n",
        "virginica = y_train==\"Iris-virginica\"\n",
        "df_versicolor = X_train[versicolor]\n",
        "df_setosa = X_train[setosa]\n",
        "df_virginica = X_train[virginica]"
      ],
      "execution_count": null,
      "outputs": []
    },
    {
      "cell_type": "markdown",
      "metadata": {
        "id": "k_AOOBkqK_iH"
      },
      "source": [
        "Lets us find out the mean and standard deviation of the lengths and widths of petal and sepal of each species of the flower."
      ]
    },
    {
      "cell_type": "code",
      "metadata": {
        "id": "cmgen-XqK_iH"
      },
      "source": [
        "# 11\n",
        "print(df_setosa.describe().iloc[1:3])"
      ],
      "execution_count": null,
      "outputs": []
    },
    {
      "cell_type": "code",
      "metadata": {
        "id": "pjQXphp6K_iI"
      },
      "source": [
        "# 12\n",
        "print(df_versicolor.describe().iloc[1:3])"
      ],
      "execution_count": null,
      "outputs": []
    },
    {
      "cell_type": "code",
      "metadata": {
        "id": "onIR5TzZK_iI"
      },
      "source": [
        "# 13\n",
        "print(df_virginica.describe().iloc[1:3])"
      ],
      "execution_count": null,
      "outputs": []
    },
    {
      "cell_type": "markdown",
      "metadata": {
        "id": "rhL0BLYDK_iI"
      },
      "source": [
        "Using the above information we set a limit range (generally in mean +- standard-deviation) for the various features"
      ]
    },
    {
      "cell_type": "code",
      "metadata": {
        "id": "5zl6dZqdK_iI"
      },
      "source": [
        "# 14\n",
        "# Set hard boundaries and check for each data row.\n",
        "statpred = []\n",
        "for i in range(X_test.shape[0]):\n",
        "    if(X_test.PetalWidthCm.iloc[i]>=0.13 and X_test.PetalWidthCm.iloc[i]<=0.35):\n",
        "        label = \"Iris-setosa\"\n",
        "    elif(X_test.PetalLengthCm.iloc[i]<=4.7 and X_test.PetalLengthCm.iloc[i]>=3.72  and X_test.PetalWidthCm.iloc[i]<=1.51 and X_test.PetalWidthCm.iloc[i]>=1.1):\n",
        "        label = \"Iris-versicolor\"\n",
        "    else:\n",
        "        label = \"Iris-virginica\"\n",
        "    statpred.append(label)"
      ],
      "execution_count": null,
      "outputs": []
    },
    {
      "cell_type": "markdown",
      "metadata": {
        "id": "SuVrIzTaK_iI"
      },
      "source": [
        "In statistical approach. We predict the labels by a simple if else condition."
      ]
    },
    {
      "cell_type": "markdown",
      "metadata": {
        "id": "jKIhryE4K_iJ"
      },
      "source": [
        "### Accuracy of Statistic Model"
      ]
    },
    {
      "cell_type": "code",
      "metadata": {
        "id": "MM6K4zWvK_iJ"
      },
      "source": [
        "# 15\n",
        "\n",
        "j=0\n",
        "c=0\n",
        "for i in statpred:\n",
        "    if y_test.iloc[j]!=i:\n",
        "        c+=1\n",
        "    j+=1\n",
        "    \n",
        "compare = pd.DataFrame(data = y_test.reset_index(drop=True))\n",
        "compare['Predicted'] = statpred\n",
        "compare['Correct?'] = compare.Species==compare.Predicted\n",
        "compare.head(10)"
      ],
      "execution_count": null,
      "outputs": []
    },
    {
      "cell_type": "code",
      "metadata": {
        "id": "EZBAAPtaK_iJ"
      },
      "source": [
        "# 16 \n",
        "acur = (150-c)*100/150\n",
        "print(np.round(acur,2),\"%\")"
      ],
      "execution_count": null,
      "outputs": []
    },
    {
      "cell_type": "markdown",
      "metadata": {
        "id": "lQ-2qVdRK_iJ"
      },
      "source": [
        "## How can we still improve this ? "
      ]
    },
    {
      "cell_type": "markdown",
      "metadata": {
        "id": "uFKmG0RtK_iJ"
      },
      "source": [
        "Let us try the Machine Learning Approach"
      ]
    },
    {
      "cell_type": "markdown",
      "metadata": {
        "id": "FQy2vC9IK_iJ"
      },
      "source": [
        "<img src='https://github.com/ishkan28321/EDW/blob/master/machinelearning.png?raw=1' height=\"50\" width=\"500\">"
      ]
    },
    {
      "cell_type": "markdown",
      "metadata": {
        "id": "g2EkUrXQK_iK"
      },
      "source": [
        "# Data Pre-processing"
      ]
    },
    {
      "cell_type": "markdown",
      "metadata": {
        "id": "HQ2g5Ct9K_iL"
      },
      "source": [
        "To apply any Machine learning algorithm to our data, we must prepare our data accordingly.\n",
        "\n",
        "For the model to be build, our data must be standardized and normalized"
      ]
    },
    {
      "cell_type": "markdown",
      "metadata": {
        "id": "SPQ7alzjK_iL"
      },
      "source": [
        "Change the labels from string to integer"
      ]
    },
    {
      "cell_type": "code",
      "metadata": {
        "id": "hpvjIzWcK_iL"
      },
      "source": [
        "# 17\n",
        "le = preprocessing.LabelEncoder()\n",
        "y = le.fit_transform(iris.Species)\n",
        "X = iris.drop(columns=['Id','Species'])\n",
        "\n",
        "X_train, X_test, y_train, y_test = train_test_split(X, y, test_size=0.32, random_state=43)"
      ],
      "execution_count": null,
      "outputs": []
    },
    {
      "cell_type": "markdown",
      "metadata": {
        "id": "J_-jL_ieK_iL"
      },
      "source": [
        "You can see below how the species of the flower are converted to integers."
      ]
    },
    {
      "cell_type": "code",
      "metadata": {
        "id": "X8Y74EV1K_iL"
      },
      "source": [
        "# 18\n",
        "display(y)\n",
        "feat_col = X.columns"
      ],
      "execution_count": null,
      "outputs": []
    },
    {
      "cell_type": "markdown",
      "metadata": {
        "id": "uY-HL59pK_iL"
      },
      "source": [
        "##  <U>Train Test Split<U>"
      ]
    },
    {
      "cell_type": "markdown",
      "metadata": {
        "id": "Qy3IbhGLK_iM"
      },
      "source": [
        "Lets scale the data to a fixed range"
      ]
    },
    {
      "cell_type": "code",
      "metadata": {
        "id": "aqVT13p2K_iM"
      },
      "source": [
        "# 19\n",
        "X_train = scale_data(X_train)\n",
        "X_test = scale_data(X_test)"
      ],
      "execution_count": null,
      "outputs": []
    },
    {
      "cell_type": "markdown",
      "metadata": {
        "id": "HVfH5C3ZK_iM"
      },
      "source": [
        "## <U>Decision Tree Classification<U>"
      ]
    },
    {
      "cell_type": "markdown",
      "metadata": {
        "id": "smRfg-nNK_iM"
      },
      "source": [
        "<img src='https://github.com/ishkan28321/EDW/blob/master/dt.jpg?raw=1'>"
      ]
    },
    {
      "cell_type": "markdown",
      "metadata": {
        "id": "GcQ9BKXMK_iM"
      },
      "source": [
        "Decision tree is a Supervised Machine Learning technique where the data is continuously split according to a certain parameter."
      ]
    },
    {
      "cell_type": "markdown",
      "metadata": {
        "id": "U1wUqyGaK_iM"
      },
      "source": [
        "#### 6.1 Train the model"
      ]
    },
    {
      "cell_type": "code",
      "metadata": {
        "id": "GKctv2AIK_iM"
      },
      "source": [
        "#20\n",
        "dtc = DecisionTreeClassifier(random_state=0)\n",
        "dtmodel = dtc.fit(X_train,y_train)"
      ],
      "execution_count": null,
      "outputs": []
    },
    {
      "cell_type": "markdown",
      "metadata": {
        "id": "Q-sHsln4K_iN"
      },
      "source": [
        "#### 6.2 Predict"
      ]
    },
    {
      "cell_type": "code",
      "metadata": {
        "id": "SYmJL6FIK_iN"
      },
      "source": [
        "#21\n",
        "prediction = dtmodel.predict(X_test)"
      ],
      "execution_count": null,
      "outputs": []
    },
    {
      "cell_type": "code",
      "metadata": {
        "id": "GqmWp13YK_iN"
      },
      "source": [
        "#22\n",
        "prediction"
      ],
      "execution_count": null,
      "outputs": []
    },
    {
      "cell_type": "markdown",
      "metadata": {
        "id": "yjx647zvK_iN"
      },
      "source": [
        "The predictions are made in numbers as the species were assigned. But they can be converted back to their labels."
      ]
    },
    {
      "cell_type": "code",
      "metadata": {
        "id": "DSJX5Rm1K_iN"
      },
      "source": [
        "#23\n",
        "dtpreds = le.inverse_transform(prediction)\n",
        "display(dtpreds)"
      ],
      "execution_count": null,
      "outputs": []
    },
    {
      "cell_type": "markdown",
      "metadata": {
        "id": "mFOSEy-iK_iN"
      },
      "source": [
        "#### 6.3 Accuracy"
      ]
    },
    {
      "cell_type": "code",
      "metadata": {
        "id": "RYGBmL4QK_iN"
      },
      "source": [
        "#24\n",
        "accdt = get_acc(y_test,prediction)\n",
        "print(accdt,'%')"
      ],
      "execution_count": null,
      "outputs": []
    },
    {
      "cell_type": "markdown",
      "metadata": {
        "id": "pVq42wdlK_iO"
      },
      "source": [
        "#### 6.4 Confusion Matrix"
      ]
    },
    {
      "cell_type": "code",
      "metadata": {
        "id": "Qhxj3auRK_iO"
      },
      "source": [
        "#25\n",
        "cmdt = confusion_matrix(y_test,prediction,\"dt\",accdt)"
      ],
      "execution_count": null,
      "outputs": []
    },
    {
      "cell_type": "markdown",
      "metadata": {
        "id": "6IBKHQt6K_iO"
      },
      "source": [
        "#### 6.5 Decision Boundaries"
      ]
    },
    {
      "cell_type": "code",
      "metadata": {
        "id": "cOUAT1Z7K_iO"
      },
      "source": [
        "#26\n",
        "plot_boundaries(iris,'dt')"
      ],
      "execution_count": null,
      "outputs": []
    },
    {
      "cell_type": "markdown",
      "metadata": {
        "id": "MZ0rbUKsK_iO"
      },
      "source": [
        "## 5. <U>Support Vector Machine</U> (SVM)"
      ]
    },
    {
      "cell_type": "markdown",
      "metadata": {
        "id": "W_i-HqmBK_iO"
      },
      "source": [
        "A SVM classifies the data by drawing hyperplanes in the available dimensional space."
      ]
    },
    {
      "cell_type": "markdown",
      "metadata": {
        "id": "GSkcvZooK_iO"
      },
      "source": [
        "<img src=\"https://github.com/ishkan28321/EDW/blob/master/svm.png?raw=1\"/>"
      ]
    },
    {
      "cell_type": "markdown",
      "metadata": {
        "id": "LJKDXHcdK_iP"
      },
      "source": [
        "#### 5.1 Train Model"
      ]
    },
    {
      "cell_type": "code",
      "metadata": {
        "id": "3gVw2s2TK_iP"
      },
      "source": [
        "#27\n",
        "svm = LinearSVC(penalty='l2',loss='squared_hinge',C=10,random_state=0,max_iter=1000)\n",
        "svm.fit(X_train,y_train)"
      ],
      "execution_count": null,
      "outputs": []
    },
    {
      "cell_type": "markdown",
      "metadata": {
        "id": "PgDJWbgQK_iP"
      },
      "source": [
        "#### 5.2 Predict"
      ]
    },
    {
      "cell_type": "code",
      "metadata": {
        "id": "5b93JFzcK_iP"
      },
      "source": [
        "#28\n",
        "svmpred = svm.predict(X_test)"
      ],
      "execution_count": null,
      "outputs": []
    },
    {
      "cell_type": "markdown",
      "metadata": {
        "id": "azP3qyvoK_iP"
      },
      "source": [
        "#### 5.3 Accuracy"
      ]
    },
    {
      "cell_type": "code",
      "metadata": {
        "id": "Ua7q1h0IK_iP"
      },
      "source": [
        "#29\n",
        "accsvm = get_acc(y_test,svmpred)\n",
        "print(accsvm,'%')"
      ],
      "execution_count": null,
      "outputs": []
    },
    {
      "cell_type": "markdown",
      "metadata": {
        "id": "NAQ1QJmeK_iP"
      },
      "source": [
        "#### 5.4 Confusion Matrix"
      ]
    },
    {
      "cell_type": "code",
      "metadata": {
        "id": "2A-doku3K_iP"
      },
      "source": [
        "#30\n",
        "cmsvm = confusion_matrix(y_test,svmpred,'svm',accsvm)"
      ],
      "execution_count": null,
      "outputs": []
    },
    {
      "cell_type": "markdown",
      "metadata": {
        "id": "7FkDzLmwK_iQ"
      },
      "source": [
        "#### 5.5 Decision Boundaries"
      ]
    },
    {
      "cell_type": "code",
      "metadata": {
        "id": "PS3HtWUPK_iQ"
      },
      "source": [
        "#31\n",
        "plot_boundaries(iris,'svm')"
      ],
      "execution_count": null,
      "outputs": []
    },
    {
      "cell_type": "markdown",
      "metadata": {
        "id": "7X72j5SDK_iQ"
      },
      "source": [
        "## 7. <U>Random Forest Classification<U>"
      ]
    },
    {
      "cell_type": "markdown",
      "metadata": {
        "id": "xeew41ihK_iQ"
      },
      "source": [
        "Random forest, like its name implies, consists of a large number of individual decision trees that operate as an ensemble. Each individual tree in the random forest spits out a class prediction and the class with the most votes becomes our model’s prediction."
      ]
    },
    {
      "cell_type": "markdown",
      "metadata": {
        "id": "2BMUQsz8K_iQ"
      },
      "source": [
        "<img src='https://github.com/ishkan28321/EDW/blob/master/pic1.jpeg?raw=1'/>"
      ]
    },
    {
      "cell_type": "markdown",
      "metadata": {
        "id": "7w5KW9rFK_iQ"
      },
      "source": [
        "<U><code>The reason for this wonderful effect is that the trees protect each other from their individual errors.<code><U>"
      ]
    },
    {
      "cell_type": "markdown",
      "metadata": {
        "id": "-aXXBdM6K_iR"
      },
      "source": [
        "#### 7.1 Train Model"
      ]
    },
    {
      "cell_type": "code",
      "metadata": {
        "id": "4DYl93P5K_iR"
      },
      "source": [
        "#32\n",
        "from sklearn.ensemble import RandomForestClassifier\n",
        "rfc = RandomForestClassifier(max_depth=25, random_state=43)\n",
        "rfc.fit(X_train, y_train)"
      ],
      "execution_count": null,
      "outputs": []
    },
    {
      "cell_type": "markdown",
      "metadata": {
        "id": "l9F6qc35K_iR"
      },
      "source": [
        "#### 7.2 Predict"
      ]
    },
    {
      "cell_type": "code",
      "metadata": {
        "id": "noDyUNAsK_iR"
      },
      "source": [
        "#33\n",
        "preds = rfc.predict(X_test)\n",
        "display(preds)"
      ],
      "execution_count": null,
      "outputs": []
    },
    {
      "cell_type": "markdown",
      "metadata": {
        "id": "jQQSV4X0K_iR"
      },
      "source": [
        "#### 7.3 Accuracy"
      ]
    },
    {
      "cell_type": "code",
      "metadata": {
        "id": "ei4QyGqlK_iR"
      },
      "source": [
        "#34\n",
        "accrf = get_acc(y_test,preds)\n",
        "print(accrf,'%')"
      ],
      "execution_count": null,
      "outputs": []
    },
    {
      "cell_type": "markdown",
      "metadata": {
        "id": "qswNMEokK_iR"
      },
      "source": [
        "#### 7.4 Confusion Matrix"
      ]
    },
    {
      "cell_type": "code",
      "metadata": {
        "id": "EUdvY-HZK_iR"
      },
      "source": [
        "#35\n",
        "cmrf = confusion_matrix(y_test,preds,'rf',accrf)"
      ],
      "execution_count": null,
      "outputs": []
    },
    {
      "cell_type": "markdown",
      "metadata": {
        "id": "F5k73rHxK_iS"
      },
      "source": [
        "#### 7.5 Decision Boundaries"
      ]
    },
    {
      "cell_type": "code",
      "metadata": {
        "id": "BIUT6K_pK_iS"
      },
      "source": [
        "#36\n",
        "plot_boundaries(iris,'rfst')"
      ],
      "execution_count": null,
      "outputs": []
    },
    {
      "cell_type": "markdown",
      "metadata": {
        "id": "ugkdAh39K_iS"
      },
      "source": [
        "## 8. <U>Feature Importances</U>"
      ]
    },
    {
      "cell_type": "markdown",
      "metadata": {
        "id": "lAhNXWA9K_iS"
      },
      "source": [
        "Features that have been referred to the most to predict the class."
      ]
    },
    {
      "cell_type": "code",
      "metadata": {
        "id": "Lk6aRoClK_iS"
      },
      "source": [
        "#37\n",
        "fig = plt_feature_importance()\n",
        "fig.show()"
      ],
      "execution_count": null,
      "outputs": []
    },
    {
      "cell_type": "markdown",
      "metadata": {
        "id": "skIT7CvYK_iS"
      },
      "source": [
        "## 9. <U>Conclusion</U>"
      ]
    },
    {
      "cell_type": "code",
      "metadata": {
        "id": "U9fk1LYEK_iS"
      },
      "source": [
        "#38\n",
        "display(cmdt,cmsvm,cmrf)"
      ],
      "execution_count": null,
      "outputs": []
    },
    {
      "cell_type": "markdown",
      "metadata": {
        "id": "GB3cpO1bK_iT"
      },
      "source": [
        "## 10. <U>Feature adding</U>"
      ]
    },
    {
      "cell_type": "markdown",
      "metadata": {
        "id": "rK1ugVFNK_iT"
      },
      "source": [
        "Let us add two new features to our dataset. We can calculate the area (length x breadth) of sepal and petal and add them as new features."
      ]
    },
    {
      "cell_type": "code",
      "metadata": {
        "id": "y6khsT2LK_iT"
      },
      "source": [
        "#39\n",
        "iris['SepalArea'] = iris['SepalLengthCm']*iris['SepalWidthCm']\n",
        "iris['PetalArea'] = iris['PetalLengthCm']*iris['PetalWidthCm']"
      ],
      "execution_count": null,
      "outputs": []
    },
    {
      "cell_type": "code",
      "metadata": {
        "id": "epOJDH57K_iT"
      },
      "source": [
        "#40\n",
        "iris.sample(frac=0.035)"
      ],
      "execution_count": null,
      "outputs": []
    },
    {
      "cell_type": "markdown",
      "metadata": {
        "id": "RDhU6xD3K_iT"
      },
      "source": [
        "Now let's try running the the models again."
      ]
    },
    {
      "cell_type": "code",
      "metadata": {
        "id": "Dij-XY-rK_iT"
      },
      "source": [
        "#41\n",
        "y = le.fit_transform(iris.Species)\n",
        "X = iris.drop(columns=['Id','Species'])\n",
        "feat_col = X.columns\n",
        "X = scale_data(X)"
      ],
      "execution_count": null,
      "outputs": []
    },
    {
      "cell_type": "code",
      "metadata": {
        "id": "KB6PExp4K_iT"
      },
      "source": [
        "#52\n",
        "X_train, X_test, y_train, y_test = train_test_split(X, y, test_size=0.33, random_state=42)"
      ],
      "execution_count": null,
      "outputs": []
    },
    {
      "cell_type": "markdown",
      "metadata": {
        "id": "1_FG_EFwK_iU"
      },
      "source": [
        "### Scalar Vector Machine (SVM)"
      ]
    },
    {
      "cell_type": "code",
      "metadata": {
        "id": "cWn832XjK_iU"
      },
      "source": [
        "#53\n",
        "svm.fit(X_train,y_train)\n",
        "new_svm = svm.predict(X_test)"
      ],
      "execution_count": null,
      "outputs": []
    },
    {
      "cell_type": "code",
      "metadata": {
        "id": "UZpu287RK_iU"
      },
      "source": [
        "#54\n",
        "svmacc = get_acc(y_test,new_svm)\n",
        "print(\"Previous Accuracy: \",accsvm,\"%\")\n",
        "print(\"New Accuracy: \",svmacc,\"%\")"
      ],
      "execution_count": null,
      "outputs": []
    },
    {
      "cell_type": "code",
      "metadata": {
        "scrolled": true,
        "id": "5Q5_L_K9K_iU"
      },
      "source": [
        "#55\n",
        "new_cmsvm = confusion_matrix(y_test,new_svm,\"svm\",svmacc)"
      ],
      "execution_count": null,
      "outputs": []
    },
    {
      "cell_type": "markdown",
      "metadata": {
        "id": "EOuYeNEzK_iU"
      },
      "source": [
        "### Decision Tree"
      ]
    },
    {
      "cell_type": "code",
      "metadata": {
        "id": "Vd4hZfKAK_iU"
      },
      "source": [
        "#56\n",
        "dtc.fit(X_train,y_train)\n",
        "new_dtree = dtc.predict(X_test)"
      ],
      "execution_count": null,
      "outputs": []
    },
    {
      "cell_type": "code",
      "metadata": {
        "id": "qpF-e0fFK_iU"
      },
      "source": [
        "#57\n",
        "dtacc = get_acc(y_test,new_dtree)\n",
        "print(\"Previous Accuracy: \",accdt,\"%\")\n",
        "print(\"New Accuracy: \",dtacc,\"%\")"
      ],
      "execution_count": null,
      "outputs": []
    },
    {
      "cell_type": "code",
      "metadata": {
        "id": "ThsZdiQiK_iV"
      },
      "source": [
        "#58\n",
        "new_cmdt = confusion_matrix(y_test,new_dtree,\"dt\",dtacc)"
      ],
      "execution_count": null,
      "outputs": []
    },
    {
      "cell_type": "markdown",
      "metadata": {
        "id": "uxSsg6EKK_iV"
      },
      "source": [
        "### Random Forest"
      ]
    },
    {
      "cell_type": "code",
      "metadata": {
        "id": "QWMq8oAUK_iV"
      },
      "source": [
        "#59\n",
        "rfc.fit(X_train, y_train)\n",
        "new_rfst = rfc.predict(X_test)"
      ],
      "execution_count": null,
      "outputs": []
    },
    {
      "cell_type": "code",
      "metadata": {
        "id": "ea3SlmcpK_iV"
      },
      "source": [
        "#60\n",
        "rfacc = get_acc(y_test,new_rfst)\n",
        "print(\"Previous Accuracy: \",accrf,\"%\")\n",
        "print(\"New Accuracy: \",rfacc,\"%\")"
      ],
      "execution_count": null,
      "outputs": []
    },
    {
      "cell_type": "code",
      "metadata": {
        "id": "GfwNplnwK_iV"
      },
      "source": [
        "#61\n",
        "new_cmrf = confusion_matrix(y_test,new_rfst,\"rf\",rfacc)"
      ],
      "execution_count": null,
      "outputs": []
    },
    {
      "cell_type": "markdown",
      "metadata": {
        "id": "98zVe5bnK_iV"
      },
      "source": [
        "## New Feature Importances"
      ]
    },
    {
      "cell_type": "code",
      "metadata": {
        "id": "j604QBS7K_iV"
      },
      "source": [
        "#62\n",
        "fig = plt_feature_importance()\n",
        "fig.show()"
      ],
      "execution_count": null,
      "outputs": []
    }
  ]
}